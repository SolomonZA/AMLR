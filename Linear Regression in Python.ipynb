{
 "cells": [
  {
   "cell_type": "markdown",
   "metadata": {},
   "source": [
    "# Linear Regression - Using only NumPy\n",
    "---\n",
    "\n",
    "Hey folks. \n",
    "\n",
    "Today I'm going to show you how to apply a basic linear regression model to a dataset on Swedish Car insurance.\n",
    "\n",
    "It's the same one used here on MachineLearningMastery:\n",
    "\n",
    "I like to think of mathematics merely as \"notation\". It's just a symbolic way to represent ideas concisely and rigorously."
   ]
  },
  {
   "cell_type": "markdown",
   "metadata": {},
   "source": [
    "Let $X$ be an $n$ x $k$ matrix of observations where:  \n",
    "\n",
    "&nbsp;&nbsp;&nbsp;&nbsp;&nbsp;&nbsp; $k$:  number of **indepdenent** (explanatory) variables  \n",
    "&nbsp;&nbsp;&nbsp;&nbsp;&nbsp;&nbsp; $n$: the number of **observations** (e.g people)\n",
    "\n",
    "$y$ is an $n$ x $1$ vector of observations on the **dependent** variable\n",
    "\n"
   ]
  },
  {
   "cell_type": "markdown",
   "metadata": {},
   "source": [
    "# A Linear Model\n",
    "\n",
    "The mathematical statement for a linear model is as follows:\n",
    "\n",
    "$$ \\mathbf{y = X\\beta + \\epsilon}$$\n",
    "\n",
    "In a setting with **one observation** and **k variables**, the model would look like this:\n",
    "\n",
    "$$ y_1 = \\beta_0 + \\beta_1X_{1,1} + \\beta_2X_{1,2} + ... + \\beta_kX_{k} + \\epsilon_1 $$\n",
    "\n",
    "In a setting with **one variable** and **n observations**, the model would look like this:\n",
    "\n",
    "$$\n",
    "\\begin{bmatrix}y_1 \\\\ y_2 \\\\ ... \\\\ y_n\\end{bmatrix} = \n",
    "\\begin{bmatrix}\\beta_0 + \\beta_1X_1  \\\\ \\beta_0 + \\beta_1X_2 \\\\ ... \\\\ \\beta_0 + \\beta_1X_n  \\end{bmatrix}\n",
    "+ \\begin{bmatrix} \\epsilon_1 \\\\ \\epsilon_2 \\\\ ... \\\\ \\epsilon_n \\end{bmatrix}\n",
    "$$\n",
    "\n",
    "This can be re-shaped in matrices for compactness:\n",
    "\n",
    "$$\n",
    "\\begin{bmatrix}y_1 \\\\ y_2 \\\\ ... \\\\ y_n\\end{bmatrix} = \n",
    "\\begin{bmatrix} 1 & X_1\\\\ 1 & X_2\\\\... & ... \\\\ 1 & X_n\\\\ \\end{bmatrix}\\begin{bmatrix} \\beta_0 \\\\ \\beta_1\\end{bmatrix}\n",
    "+ \\begin{bmatrix} \\epsilon_1 \\\\ \\epsilon_2 \\\\ ... \\\\ \\epsilon_n \\end{bmatrix}\n",
    "$$\n",
    "\n",
    "And, as in our case, with **n observations** and **k variables**:\n",
    "\n",
    "$$\n",
    "\\begin{bmatrix}\n",
    "    y_1 \\\\ y_2 \\\\ ... \\\\ y_n\n",
    "\\end{bmatrix} = \n",
    "\\begin{bmatrix}\n",
    "    \\beta_0 + \\beta_1X_{1,1} + \\beta_2X_{1,2} + ... + \\beta_kX_{1,k}\n",
    "    \\\\ \\beta_0 + \\beta_1X_{2,1} + \\beta_2X_{2,2} + ... + \\beta_kX_{2,k}\n",
    "    \\\\ ...\n",
    "    \\\\ \\beta_0 + \\beta_1X_{n,1} + \\beta_2X_{n,2} + ... + \\beta_kX_{n,k}\n",
    "\\end{bmatrix}\n",
    "+ \\begin{bmatrix} \\epsilon_1 \\\\ \\epsilon_2 \\\\ ... \\\\ \\epsilon_n \\end{bmatrix}\n",
    "$$\n",
    "\n",
    "Which again can be expressed more compactly as:\n",
    "\n",
    "$$\n",
    "\\begin{bmatrix}\n",
    "    y_1 \\\\ y_2 \\\\ ... \\\\ y_n\n",
    "\\end{bmatrix}\n",
    "=\n",
    "\\begin{bmatrix}\n",
    "    1 & X_{1,1} & X_{1,2} & ... & X_{1,k}\n",
    "    \\\\ 1 & X_{2,1} & X_{2,2} & ... & X_{2,k}\n",
    "    \\\\... & ... & ... & ... & ...\n",
    "    \\\\ 1 & X_{n,1} & X_{n,2} & ... & X_{n,k}\n",
    "\\end{bmatrix}\n",
    "\\begin{bmatrix}\n",
    "    \\beta_0 \\\\ \\beta_1 \\\\ ... \\\\ \\beta_k\n",
    "\\end{bmatrix}\n",
    "+ \n",
    "\\begin{bmatrix} \\epsilon_1 \\\\ \\epsilon_2 \\\\ ... \\\\ \\epsilon_n \\end{bmatrix}\n",
    "$$\n",
    "\n",
    "$\\beta$ represents the population **parameters**. This captures the **deterministic** relationship between the **independent** variables $\\mathbf{X}$ and the **dependent** variable $y$.\n",
    "\n",
    "The \"remainder\" of $y$ is then described by the **errors** or the **stochastic** component $\\epsilon$\n",
    "\n",
    "The goal of linear regression is to find an **estimate** $\\hat{\\beta}$ of the population parameter $\\beta$.\n",
    "\n",
    "In practice, this is done by collecting a **random sample** of the data from the population and then estimating the parameters with a method known as **least squares** which is discussed next."
   ]
  },
  {
   "cell_type": "markdown",
   "metadata": {},
   "source": [
    "# Estimation\n",
    "---\n",
    "\n",
    "The criteria for an **estimator** to be the **least squares estimator** of a population parameter, is that it minimises the **residual sum of squares of the errors**.\n",
    "\n",
    "In notation:\n",
    "\n",
    "$$ RSS = \\Sigma^n_{i=1} e^2_i $$\n",
    "\n",
    "Where:\n",
    "\n",
    "$$ e = y - X\\beta  $$\n",
    "\n",
    "From the expression:\n",
    "\n",
    "$$ y = X\\beta + e $$\n",
    "\n",
    "It is crucial here to note the following expression holds true:\n",
    "\n",
    "$$ RSS = \\Sigma^n_{i=1} e^2_i = e'e $$\n",
    "\n",
    "#### Example\n",
    "\n",
    "This can be seen from a simple 1x3 dimension example.\n",
    "\n",
    "Suppose $e = \\begin{bmatrix} 2 \\\\ 5 \\\\ 6 \\end{bmatrix} $ then in this case $ e' = \\begin{bmatrix} 2 & 5 & 6 \\end{bmatrix} $ \n",
    "and furthermore than $ e'e = \\begin{bmatrix} 2 & 5 & 6 \\end{bmatrix}\\begin{bmatrix} 2 \\\\ 5 \\\\ 6  \\end{bmatrix} $ = $ 2 \\cdot 2 + 5\\cdot5 + 6\\cdot6 = \\Sigma^n_{i=1} e^2_i $ \n",
    "\n",
    "#### Rewriting the Residual Sum of Squares\n",
    "\n",
    "This expression is useful because it allows us to rewrite our $RSS$ statement as follows:\n",
    "\n",
    "$$ RSS = \\Sigma^n_{i=1} e^2_i = e'e = (y - X\\beta)'(y  - X\\beta) $$\n",
    "\n",
    "The expression is simplified as follows:\n",
    "\n",
    "$$ (y - X\\beta )'(y  - X\\beta ) $$\n",
    "$$ ( y' -  \\beta'X')(y - X\\beta ) $$ \n",
    "$$ y'y + \\beta' X' X \\beta  -  \\beta'X'y - y'X\\beta $$  \n",
    "\n",
    "Here it helps to keep track of the **dimensions** of the terms in the expression.\n",
    "\n",
    "In particular noting that $ y' X \\beta  $ is a term consisting of a \n",
    "$\\begin{bmatrix} 1 \\cdot n \\end{bmatrix}$, $\\begin{bmatrix} n \\cdot k \\end{bmatrix}$, $\\begin{bmatrix} k \\cdot 1 \\end{bmatrix}$ matrix composite ,which is a $\\begin{bmatrix} 1 \\cdot 1 \\end{bmatrix}$ scalar.\n",
    "\n",
    "And since the transpose of a scalar is that scalar $ (2'= 2) $, then $ (y'X\\beta)' = \\beta' X' y$\n",
    "\n",
    "This leaves us with:\n",
    "\n",
    "$$ y'y + \\beta' X' X \\beta  -  \\beta'X'y -  \\beta'X'y$$ \n",
    "$$ y'y + \\beta' X' X \\beta  -  2\\cdot \\beta'X'y$$ \n",
    "\n",
    "#### Minimising (deriving) the RSS\n",
    "\n",
    "In order for a function to be a minimum, one must derive the function with respect to the choice variable, setting this derivative equal to zero.\n",
    "\n",
    "The variable(s) that are free to vary in this expression is the vector of $ \\beta $. That is the variable with respect to which we must derive the **objective function**.\n",
    "\n",
    "$$ \\frac{\\partial RSS}{\\partial \\hat{\\beta}} = \\frac{\\partial (y'y + \\hat{\\beta}' X' X \\hat{\\beta}  -  2\\cdot \\hat{\\beta}'X'y) }{\\hat{\\partial} \\beta} = 0 $$   \n",
    "$$-2X'y + 2X'X\\hat{\\beta} = 0 $$   \n",
    "$$ 2X'X\\hat{\\beta} = 2X'y $$   \n",
    "$$ X'X\\hat{\\beta} = X'y $$   \n",
    "$$ (X'X)^{-1}X'X\\hat{\\beta} = (X'X)^{-1}X'y $$  \n",
    "$$ \\hat{\\beta} =  (X'X)^{-1}X'y $$  \n"
   ]
  },
  {
   "cell_type": "markdown",
   "metadata": {},
   "source": [
    "# Data\n",
    "---\n",
    "\n",
    "Read the data into an \"X\" vector"
   ]
  },
  {
   "cell_type": "code",
   "execution_count": 88,
   "metadata": {},
   "outputs": [
    {
     "name": "stdout",
     "output_type": "stream",
     "text": [
      "Auto Insurance in Sweden\n",
      "\n",
      "In the following data\n",
      "X = number of claims\n",
      "Y = total payment for all the claims in thousands of Swedish Kronor\n",
      "for geographical zones in Sweden\n",
      "Reference: Swedish Committee on Analysis of Risk Premium in Motor Insurance\n",
      "http://college.hmco.com/mathematics/brase/understandable_statistics/7e/students/datasets/\n",
      "       slr/frames/frame.html\n",
      "\n",
      "X\tY\n",
      "108\t392,5\n",
      "19\t46,2\n",
      "13\t15,7\n",
      "124\t422,2\n",
      "40\t119,4\n",
      "57\t170,9\n",
      "23\t56,9\n",
      "14\t77,5\n",
      "45\t214\n",
      "10\t65,3\n",
      "5\t20,9\n",
      "48\t248,1\n",
      "11\t23,5\n",
      "23\t39,6\n",
      "7\t48,8\n",
      "2\t6,6\n",
      "24\t134,9\n",
      "6\t50,9\n",
      "3\t4,4\n",
      "23\t113\n",
      "6\t14,8\n",
      "9\t48,7\n",
      "9\t52,1\n",
      "3\t13,2\n",
      "29\t103,9\n",
      "7\t77,5\n",
      "4\t11,8\n",
      "20\t98,1\n",
      "7\t27,9\n",
      "4\t38,1\n",
      "0\t0\n",
      "25\t69,2\n",
      "6\t14,6\n",
      "5\t40,3\n",
      "22\t161,5\n",
      "11\t57,2\n",
      "61\t217,6\n",
      "12\t58,1\n",
      "4\t12,6\n",
      "16\t59,6\n",
      "13\t89,9\n",
      "60\t202,4\n",
      "41\t181,3\n",
      "37\t152,8\n",
      "55\t162,8\n",
      "41\t73,4\n",
      "11\t21,3\n",
      "27\t92,6\n",
      "8\t76,1\n",
      "3\t39,9\n",
      "17\t142,1\n",
      "13\t93\n",
      "13\t31,9\n",
      "15\t32,1\n",
      "8\t55,6\n",
      "29\t133,3\n",
      "30\t194,5\n",
      "24\t137,9\n",
      "9\t87,4\n",
      "31\t209,8\n",
      "14\t95,5\n",
      "53\t244,6\n",
      "26\t187,5\n",
      "\n"
     ]
    },
    {
     "data": {
      "text/plain": [
       "\"\\nIf your dataset looks something like this, with unnecessary extra lines, and commas where you want periods for\\nfloats - just go into the file and edit it manually. \\n\\nIf it's easier to do it once in a spreadsheet viewer or a text editor - don't write code for it.\\n\""
      ]
     },
     "execution_count": 88,
     "metadata": {},
     "output_type": "execute_result"
    }
   ],
   "source": [
    "# Import\n",
    "\n",
    "import numpy as np\n",
    "import matplotlib\n",
    "from matplotlib import pyplot as plt\n",
    "%matplotlib inline\n",
    "plt.rcParams['figure.figsize'] = [10, 5]\n",
    "\n",
    "data = open(\"insurance/sweden.txt\", \"r\").read()\n",
    "\n",
    "print data\n",
    "\n",
    "# Data science top tip\n",
    "\n",
    "\"\"\"\n",
    "If your dataset looks something like this, with unnecessary extra lines, and commas where you want periods for\n",
    "floats - just go into the file and edit it manually. \n",
    "\n",
    "If it's easier to do it once in a spreadsheet viewer or a text editor - don't write code for it.\n",
    "\"\"\"\n"
   ]
  },
  {
   "cell_type": "code",
   "execution_count": 202,
   "metadata": {},
   "outputs": [],
   "source": [
    "data = np.loadtxt(\"insurance/sweden1.txt\")\n",
    "\n",
    "# print data\n",
    "\n",
    "X = np.array(data[:,0])\n",
    "Y = np.array(data[:,1])\n",
    "\n",
    "input_x = X\n",
    "output_y = Y"
   ]
  },
  {
   "cell_type": "markdown",
   "metadata": {},
   "source": [
    "# Let's have a look at our data\n",
    "---"
   ]
  },
  {
   "cell_type": "code",
   "execution_count": 186,
   "metadata": {},
   "outputs": [
    {
     "data": {
      "text/plain": [
       "<matplotlib.text.Text at 0x1101d2c90>"
      ]
     },
     "execution_count": 186,
     "metadata": {},
     "output_type": "execute_result"
    },
    {
     "data": {
      "image/png": "[encoded data removed]",
      "text/plain": [
       "<matplotlib.figure.Figure at 0x10feb4090>"
      ]
     },
     "metadata": {},
     "output_type": "display_data"
    }
   ],
   "source": [
    "plt.scatter(X,Y)\n",
    "plt.xlabel('Number of Claims', fontsize=10)\n",
    "plt.ylabel('Total payment for claims', fontsize=10)"
   ]
  },
  {
   "cell_type": "markdown",
   "metadata": {},
   "source": [
    "It's apparent that there is an (expected) positive relationship between our \"number of claims\" and the \"total payment for claims\" variables.\n",
    "\n",
    "The relationship appears to be approximately linear.\n",
    "\n",
    "If your goal is to estimate the linear relationship between these two variables, a linear regression would do the trick.\n",
    "\n",
    "Let's fit a regression line to this data."
   ]
  },
  {
   "cell_type": "code",
   "execution_count": 187,
   "metadata": {},
   "outputs": [
    {
     "name": "stdout",
     "output_type": "stream",
     "text": [
      "[[   1.    1.    1.    1.    1.    1.    1.    1.    1.    1.    1.    1.\n",
      "     1.    1.    1.    1.    1.    1.    1.    1.    1.    1.    1.    1.\n",
      "     1.    1.    1.    1.    1.    1.    1.    1.    1.    1.    1.    1.\n",
      "     1.    1.    1.    1.    1.    1.    1.    1.    1.    1.    1.    1.\n",
      "     1.    1.    1.    1.    1.    1.    1.    1.    1.    1.    1.    1.\n",
      "     1.    1.    1.]\n",
      " [ 108.   19.   13.  124.   40.   57.   23.   14.   45.   10.    5.   48.\n",
      "    11.   23.    7.    2.   24.    6.    3.   23.    6.    9.    9.    3.\n",
      "    29.    7.    4.   20.    7.    4.    0.   25.    6.    5.   22.   11.\n",
      "    61.   12.    4.   16.   13.   60.   41.   37.   55.   41.   11.   27.\n",
      "     8.    3.   17.   13.   13.   15.    8.   29.   30.   24.    9.   31.\n",
      "    14.   53.   26.]]\n"
     ]
    }
   ],
   "source": [
    "# Let's transform our vectors into numpy matrices\n",
    "\n",
    "X = np.matrix(X)\n",
    "Y = np.matrix(Y)\n",
    "\n",
    "\"\"\"\n",
    "Even though our results won't be much different (since our regression line is likely going through the origin),\n",
    "it's still generally good practice to add a constant term.\n",
    "\n",
    "To do so, we'll need to append a column of ones to our\n",
    "\"\"\"\n",
    "\n",
    "\n",
    "ones = np.ones(63)\n",
    "\n",
    "X = np.vstack([ones, X])\n",
    "\n",
    "print X"
   ]
  },
  {
   "cell_type": "code",
   "execution_count": 198,
   "metadata": {},
   "outputs": [
    {
     "data": {
      "text/plain": [
       "matrix([[ 19.99448576],\n",
       "        [  3.41382356]])"
      ]
     },
     "execution_count": 198,
     "metadata": {},
     "output_type": "execute_result"
    }
   ],
   "source": [
    "# X = np.transpose(X)\n",
    "# Y = np.transpose(Y)\n",
    "\n",
    "#a = np.matmul(np.transpose(X),X)\n",
    "\n",
    "#b = np.matmul(np.transpose(X), Y)\n",
    "\n",
    "a_inv = np.linalg.inv(a)\n",
    "\n",
    "beta = np.matmul(a_inv, b)\n",
    "\n",
    "beta\n",
    "\n",
    "# Ta-da! Our constant term  Beta_0 is 19.99 and our "
   ]
  },
  {
   "cell_type": "code",
   "execution_count": 227,
   "metadata": {},
   "outputs": [
    {
     "data": {
      "text/plain": [
       "(3.4688852303900193, 18.733311310273052)"
      ]
     },
     "execution_count": 227,
     "metadata": {},
     "output_type": "execute_result"
    }
   ],
   "source": [
    "# Now that we have our estimates, it is simple enough to check them\n",
    "# Remember out varialbes input_X, and output_y\n",
    "\n",
    "cov_x_y = np.cov(input_x, output_y)\n",
    "\n",
    "var_x = np.var(input_x)\n",
    "\n",
    "# Betas\n",
    "\n",
    "beta_1 = cov_x_y[0,1] / var_x\n",
    "\n",
    "beta_0 = np.mean(output_y) - beta_1*np.mean(input_x)"
   ]
  }
 ],
 "metadata": {
  "kernelspec": {
   "display_name": "Python 2",
   "language": "python",
   "name": "python2"
  },
  "language_info": {
   "codemirror_mode": {
    "name": "ipython",
    "version": 2
   },
   "file_extension": ".py",
   "mimetype": "text/x-python",
   "name": "python",
   "nbconvert_exporter": "python",
   "pygments_lexer": "ipython2",
   "version": "2.7.13"
  }
 },
 "nbformat": 4,
 "nbformat_minor": 2
}
